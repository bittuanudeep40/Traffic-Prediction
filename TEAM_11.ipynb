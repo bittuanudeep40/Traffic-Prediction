{
  "cells": [
    {
      "cell_type": "markdown",
      "metadata": {
        "id": "LsSkRNhOjjNA"
      },
      "source": [
        "##Importing all the libraries"
      ]
    },
    {
      "cell_type": "code",
      "execution_count": 4,
      "metadata": {
        "id": "iAiBXje8jNcY"
      },
      "outputs": [],
      "source": [
        "from sklearn.preprocessing import OneHotEncoder\n",
        "from flask import Flask, render_template, request\n",
        "from sklearn.preprocessing import StandardScaler, MinMaxScaler\n",
        "#from scipy.stats import zscore\n",
        "# from sklearn.ensemble import StackingRegressor\n",
        "from sklearn.neural_network import MLPRegressor\n",
        "# from sklearn.svm import SVR\n",
        "import seaborn as sns\n",
        "\n",
        "import warnings\n",
        "import matplotlib.pyplot as plt\n",
        "import numpy as np\n",
        "import pandas as pd\n",
        "from datetime import datetime, timedelta"
      ]
    },
    {
      "cell_type": "code",
      "execution_count": 5,
      "metadata": {
        "id": "dq2pIf67jMpn"
      },
      "outputs": [],
      "source": [
        "def posix_time(dt):\n",
        "    return (dt - datetime(1970, 1, 1)) / timedelta(seconds=1)"
      ]
    },
    {
      "cell_type": "markdown",
      "metadata": {
        "id": "iCNXod0ZkJ4l"
      },
      "source": [
        "\n",
        "\n",
        "#importing the dataset\n",
        "\n",
        "\n"
      ]
    },
    {
      "cell_type": "code",
      "execution_count": 18,
      "metadata": {
        "id": "H7XjquU6j-KQ"
      },
      "outputs": [],
      "source": [
        "data = pd.read_csv('Train.csv')\n"
      ]
    },
    {
      "cell_type": "markdown",
      "metadata": {
        "id": "9PNQWiw1k-BP"
      },
      "source": [
        "#taking the required features or columns\n",
        "Collecting the data\n"
      ]
    },
    {
      "cell_type": "code",
      "execution_count": 47,
      "metadata": {
        "id": "ymQOLB8pj985"
      },
      "outputs": [],
      "source": [
        "data = data.sort_values(\n",
        "    by=['date_time'], ascending=True).reset_index(drop=True)\n",
        "last_n_hours = [1, 2, 3, 4, 5, 6]\n",
        "for n in last_n_hours:\n",
        "    data[f'last_{n}_hour_traffic'] = data['traffic_volume'].shift(n)\n",
        "data = data.dropna().reset_index(drop=True)\n",
        "data.loc[data['is_holiday'] != 'None', 'is_holiday'] = 1\n",
        "data.loc[data['is_holiday'] == 'None', 'is_holiday'] = 0\n",
        "data['is_holiday'] = data['is_holiday'].astype(int)\n",
        "\n",
        "data['date_time'] = pd.to_datetime(data['date_time'])\n",
        "data['hour'] = data['date_time'].map(lambda x: int(x.strftime(\"%H\")))\n",
        "data['month_day'] = data['date_time'].map(lambda x: int(x.strftime(\"%d\")))\n",
        "data['weekday'] = data['date_time'].map(lambda x: x.weekday()+1)\n",
        "data['month'] = data['date_time'].map(lambda x: int(x.strftime(\"%m\")))\n",
        "data['year'] = data['date_time'].map(lambda x: int(x.strftime(\"%Y\")))\n",
        "data.to_csv(\"traffic_volume_data.csv\", index=None)"
      ]
    },
    {
      "cell_type": "code",
      "execution_count": 49,
      "metadata": {
        "id": "wt42TIeOkiqb"
      },
      "outputs": [],
      "source": [
        "import seaborn as sns\n",
        "import matplotlib.pyplot as plt\n",
        "import warnings\n",
        "\n",
        "sns.set()\n",
        "plt.rcParams['font.sans-serif'] = ['SimHei']\n",
        "plt.rcParams['axes.unicode_minus'] = False\n",
        "warnings.filterwarnings('ignore')\n",
        "\n",
        "data = pd.read_csv(\"traffic_volume_data.csv\")\n",
        "\n",
        "# ✅ Safely sample up to 10,000 rows only if available\n",
        "data = data.sample(n=min(10000, len(data)), replace=False).reset_index(drop=True)\n",
        "\n",
        "label_columns = ['weather_type', 'weather_description']\n",
        "numeric_columns = ['is_holiday', 'temperature',\n",
        "                   'weekday', 'hour', 'month_day', 'year', 'month']\n"
      ]
    },
    {
      "cell_type": "code",
      "execution_count": 28,
      "metadata": {
        "id": "FJbPBfWL38aa"
      },
      "outputs": [
        {
          "data": {
            "text/html": [
              "<div>\n",
              "<style scoped>\n",
              "    .dataframe tbody tr th:only-of-type {\n",
              "        vertical-align: middle;\n",
              "    }\n",
              "\n",
              "    .dataframe tbody tr th {\n",
              "        vertical-align: top;\n",
              "    }\n",
              "\n",
              "    .dataframe thead th {\n",
              "        text-align: right;\n",
              "    }\n",
              "</style>\n",
              "<table border=\"1\" class=\"dataframe\">\n",
              "  <thead>\n",
              "    <tr style=\"text-align: right;\">\n",
              "      <th></th>\n",
              "      <th>is_holiday</th>\n",
              "      <th>temperature</th>\n",
              "      <th>weekday</th>\n",
              "      <th>hour</th>\n",
              "      <th>month_day</th>\n",
              "      <th>year</th>\n",
              "      <th>month</th>\n",
              "      <th>weather_type</th>\n",
              "      <th>weather_description</th>\n",
              "    </tr>\n",
              "  </thead>\n",
              "  <tbody>\n",
              "    <tr>\n",
              "      <th>0</th>\n",
              "      <td>1</td>\n",
              "      <td>286.37</td>\n",
              "      <td>1</td>\n",
              "      <td>0</td>\n",
              "      <td>27</td>\n",
              "      <td>2013</td>\n",
              "      <td>5</td>\n",
              "      <td>Clouds</td>\n",
              "      <td>overcast clouds</td>\n",
              "    </tr>\n",
              "    <tr>\n",
              "      <th>1</th>\n",
              "      <td>1</td>\n",
              "      <td>289.20</td>\n",
              "      <td>5</td>\n",
              "      <td>0</td>\n",
              "      <td>3</td>\n",
              "      <td>2015</td>\n",
              "      <td>7</td>\n",
              "      <td>Clear</td>\n",
              "      <td>sky is clear</td>\n",
              "    </tr>\n",
              "    <tr>\n",
              "      <th>2</th>\n",
              "      <td>1</td>\n",
              "      <td>274.34</td>\n",
              "      <td>4</td>\n",
              "      <td>0</td>\n",
              "      <td>24</td>\n",
              "      <td>2016</td>\n",
              "      <td>11</td>\n",
              "      <td>Mist</td>\n",
              "      <td>mist</td>\n",
              "    </tr>\n",
              "    <tr>\n",
              "      <th>3</th>\n",
              "      <td>1</td>\n",
              "      <td>277.22</td>\n",
              "      <td>4</td>\n",
              "      <td>0</td>\n",
              "      <td>26</td>\n",
              "      <td>2015</td>\n",
              "      <td>11</td>\n",
              "      <td>Haze</td>\n",
              "      <td>haze</td>\n",
              "    </tr>\n",
              "    <tr>\n",
              "      <th>4</th>\n",
              "      <td>1</td>\n",
              "      <td>293.17</td>\n",
              "      <td>1</td>\n",
              "      <td>0</td>\n",
              "      <td>5</td>\n",
              "      <td>2016</td>\n",
              "      <td>9</td>\n",
              "      <td>Rain</td>\n",
              "      <td>moderate rain</td>\n",
              "    </tr>\n",
              "  </tbody>\n",
              "</table>\n",
              "</div>"
            ],
            "text/plain": [
              "   is_holiday  temperature  weekday  hour  month_day  year  month  \\\n",
              "0           1       286.37        1     0         27  2013      5   \n",
              "1           1       289.20        5     0          3  2015      7   \n",
              "2           1       274.34        4     0         24  2016     11   \n",
              "3           1       277.22        4     0         26  2015     11   \n",
              "4           1       293.17        1     0          5  2016      9   \n",
              "\n",
              "  weather_type weather_description  \n",
              "0       Clouds     overcast clouds  \n",
              "1        Clear        sky is clear  \n",
              "2         Mist                mist  \n",
              "3         Haze                haze  \n",
              "4         Rain       moderate rain  "
            ]
          },
          "execution_count": 28,
          "metadata": {},
          "output_type": "execute_result"
        }
      ],
      "source": [
        "features = numeric_columns+label_columns\n",
        "X = data[features]\n",
        "X.head()"
      ]
    },
    {
      "cell_type": "code",
      "execution_count": 29,
      "metadata": {
        "colab": {
          "base_uri": "https://localhost:8080/"
        },
        "id": "fsUSWcueQo4n",
        "outputId": "e81bdac3-0c70-41dd-9fd4-4d9a62176ea1"
      },
      "outputs": [
        {
          "data": {
            "text/plain": [
              "(43, 9)"
            ]
          },
          "execution_count": 29,
          "metadata": {},
          "output_type": "execute_result"
        }
      ],
      "source": [
        "X.shape\n"
      ]
    },
    {
      "cell_type": "code",
      "execution_count": 32,
      "metadata": {
        "colab": {
          "base_uri": "https://localhost:8080/"
        },
        "id": "WOWCL-_Tl3wz",
        "outputId": "375b2b20-b514-42e1-cb17-3d1904a74cd7"
      },
      "outputs": [
        {
          "name": "stdout",
          "output_type": "stream",
          "text": [
            "[2, 3, 5, 7, 1, 4, 8]\n",
            "[10, 5, 6, 12, 8, 11, 3, 4, 7, 2, 13, 1]\n"
          ]
        }
      ],
      "source": [
        "from functools import reduce\n",
        "import pandas as pd\n",
        "\n",
        "def unique(list1):\n",
        "    ans = reduce(lambda re, x: re + [x] if x not in re else re, list1, [])\n",
        "    print(ans)\n",
        "\n",
        "n1 = data['weather_type']\n",
        "n2 = data['weather_description']\n",
        "\n",
        "unique(n1)\n",
        "unique(n2)\n",
        "\n",
        "n1features = ['Rain', 'Clouds', 'Clear', 'Snow', 'Mist',\n",
        "              'Drizzle', 'Haze', 'Thunderstorm', 'Fog', 'Smoke', 'Squall']\n",
        "n2features = ['light rain', 'few clouds', 'Sky is Clear', 'light snow', 'sky is clear', 'mist', 'broken clouds', 'moderate rain', 'drizzle', 'overcast clouds', 'scattered clouds', 'haze', 'proximity thunderstorm', 'light intensity drizzle', 'heavy snow', 'heavy intensity rain', 'fog', 'heavy intensity drizzle', 'shower snow', 'snow', 'thunderstorm with rain',\n",
        "              'thunderstorm with heavy rain', 'thunderstorm with light rain', 'proximity thunderstorm with rain', 'thunderstorm with drizzle', 'smoke', 'thunderstorm', 'proximity shower rain', 'very heavy rain', 'proximity thunderstorm with drizzle', 'light rain and snow', 'light intensity shower rain', 'SQUALLS', 'shower drizzle', 'thunderstorm with light drizzle']\n",
        "\n",
        "n11 = []\n",
        "n22 = []\n",
        "\n",
        "for i in range(len(data)):\n",
        "    # Convert to string to avoid issues with NaN or mixed types\n",
        "    type_val = str(n1.iloc[i])\n",
        "    desc_val = str(n2.iloc[i])\n",
        "    \n",
        "    # Encode weather_type\n",
        "    if type_val in n1features:\n",
        "        n11.append(n1features.index(type_val) + 1)\n",
        "    else:\n",
        "        n11.append(0)\n",
        "\n",
        "    # Encode weather_description\n",
        "    if desc_val in n2features:\n",
        "        n22.append(n2features.index(desc_val) + 1)\n",
        "    else:\n",
        "        n22.append(0)\n",
        "\n",
        "# Replace columns in the dataframe\n",
        "data['weather_type'] = n11\n",
        "data['weather_description'] = n22\n"
      ]
    },
    {
      "cell_type": "markdown",
      "metadata": {
        "id": "jOp4AVpSlPEd"
      },
      "source": [
        "#Data Preparation"
      ]
    },
    {
      "cell_type": "code",
      "execution_count": 12,
      "metadata": {
        "id": "VCa_UE4-kiaX"
      },
      "outputs": [],
      "source": [
        "features = numeric_columns+label_columns\n",
        "target = ['traffic_volume']\n",
        "X = data[features]\n",
        "y = data[target]"
      ]
    },
    {
      "cell_type": "code",
      "execution_count": 13,
      "metadata": {
        "colab": {
          "base_uri": "https://localhost:8080/",
          "height": 301
        },
        "id": "39wMw-Ll1inC",
        "outputId": "73fd29fd-78d4-4f4e-f388-39e8133b6fc5"
      },
      "outputs": [
        {
          "data": {
            "text/html": [
              "\n",
              "  <div id=\"df-07c74501-1462-441e-8193-cf2908e43b96\">\n",
              "    <div class=\"colab-df-container\">\n",
              "      <div>\n",
              "<style scoped>\n",
              "    .dataframe tbody tr th:only-of-type {\n",
              "        vertical-align: middle;\n",
              "    }\n",
              "\n",
              "    .dataframe tbody tr th {\n",
              "        vertical-align: top;\n",
              "    }\n",
              "\n",
              "    .dataframe thead th {\n",
              "        text-align: right;\n",
              "    }\n",
              "</style>\n",
              "<table border=\"1\" class=\"dataframe\">\n",
              "  <thead>\n",
              "    <tr style=\"text-align: right;\">\n",
              "      <th></th>\n",
              "      <th>is_holiday</th>\n",
              "      <th>temperature</th>\n",
              "      <th>weekday</th>\n",
              "      <th>hour</th>\n",
              "      <th>month_day</th>\n",
              "      <th>year</th>\n",
              "      <th>month</th>\n",
              "      <th>weather_type</th>\n",
              "      <th>weather_description</th>\n",
              "    </tr>\n",
              "  </thead>\n",
              "  <tbody>\n",
              "    <tr>\n",
              "      <th>0</th>\n",
              "      <td>0</td>\n",
              "      <td>275.97</td>\n",
              "      <td>7</td>\n",
              "      <td>21</td>\n",
              "      <td>10</td>\n",
              "      <td>2013</td>\n",
              "      <td>11</td>\n",
              "      <td>2</td>\n",
              "      <td>7</td>\n",
              "    </tr>\n",
              "    <tr>\n",
              "      <th>1</th>\n",
              "      <td>0</td>\n",
              "      <td>273.39</td>\n",
              "      <td>3</td>\n",
              "      <td>21</td>\n",
              "      <td>27</td>\n",
              "      <td>2013</td>\n",
              "      <td>2</td>\n",
              "      <td>2</td>\n",
              "      <td>10</td>\n",
              "    </tr>\n",
              "    <tr>\n",
              "      <th>2</th>\n",
              "      <td>0</td>\n",
              "      <td>260.41</td>\n",
              "      <td>4</td>\n",
              "      <td>10</td>\n",
              "      <td>12</td>\n",
              "      <td>2013</td>\n",
              "      <td>12</td>\n",
              "      <td>2</td>\n",
              "      <td>7</td>\n",
              "    </tr>\n",
              "    <tr>\n",
              "      <th>3</th>\n",
              "      <td>0</td>\n",
              "      <td>301.73</td>\n",
              "      <td>5</td>\n",
              "      <td>20</td>\n",
              "      <td>14</td>\n",
              "      <td>2015</td>\n",
              "      <td>8</td>\n",
              "      <td>3</td>\n",
              "      <td>5</td>\n",
              "    </tr>\n",
              "    <tr>\n",
              "      <th>4</th>\n",
              "      <td>0</td>\n",
              "      <td>259.98</td>\n",
              "      <td>2</td>\n",
              "      <td>20</td>\n",
              "      <td>24</td>\n",
              "      <td>2013</td>\n",
              "      <td>12</td>\n",
              "      <td>4</td>\n",
              "      <td>4</td>\n",
              "    </tr>\n",
              "    <tr>\n",
              "      <th>5</th>\n",
              "      <td>0</td>\n",
              "      <td>285.93</td>\n",
              "      <td>3</td>\n",
              "      <td>0</td>\n",
              "      <td>4</td>\n",
              "      <td>2016</td>\n",
              "      <td>5</td>\n",
              "      <td>3</td>\n",
              "      <td>5</td>\n",
              "    </tr>\n",
              "  </tbody>\n",
              "</table>\n",
              "</div>\n",
              "      <button class=\"colab-df-convert\" onclick=\"convertToInteractive('df-07c74501-1462-441e-8193-cf2908e43b96')\"\n",
              "              title=\"Convert this dataframe to an interactive table.\"\n",
              "              style=\"display:none;\">\n",
              "        \n",
              "  <svg xmlns=\"http://www.w3.org/2000/svg\" height=\"24px\"viewBox=\"0 0 24 24\"\n",
              "       width=\"24px\">\n",
              "    <path d=\"M0 0h24v24H0V0z\" fill=\"none\"/>\n",
              "    <path d=\"M18.56 5.44l.94 2.06.94-2.06 2.06-.94-2.06-.94-.94-2.06-.94 2.06-2.06.94zm-11 1L8.5 8.5l.94-2.06 2.06-.94-2.06-.94L8.5 2.5l-.94 2.06-2.06.94zm10 10l.94 2.06.94-2.06 2.06-.94-2.06-.94-.94-2.06-.94 2.06-2.06.94z\"/><path d=\"M17.41 7.96l-1.37-1.37c-.4-.4-.92-.59-1.43-.59-.52 0-1.04.2-1.43.59L10.3 9.45l-7.72 7.72c-.78.78-.78 2.05 0 2.83L4 21.41c.39.39.9.59 1.41.59.51 0 1.02-.2 1.41-.59l7.78-7.78 2.81-2.81c.8-.78.8-2.07 0-2.86zM5.41 20L4 18.59l7.72-7.72 1.47 1.35L5.41 20z\"/>\n",
              "  </svg>\n",
              "      </button>\n",
              "      \n",
              "  <style>\n",
              "    .colab-df-container {\n",
              "      display:flex;\n",
              "      flex-wrap:wrap;\n",
              "      gap: 12px;\n",
              "    }\n",
              "\n",
              "    .colab-df-convert {\n",
              "      background-color: #E8F0FE;\n",
              "      border: none;\n",
              "      border-radius: 50%;\n",
              "      cursor: pointer;\n",
              "      display: none;\n",
              "      fill: #1967D2;\n",
              "      height: 32px;\n",
              "      padding: 0 0 0 0;\n",
              "      width: 32px;\n",
              "    }\n",
              "\n",
              "    .colab-df-convert:hover {\n",
              "      background-color: #E2EBFA;\n",
              "      box-shadow: 0px 1px 2px rgba(60, 64, 67, 0.3), 0px 1px 3px 1px rgba(60, 64, 67, 0.15);\n",
              "      fill: #174EA6;\n",
              "    }\n",
              "\n",
              "    [theme=dark] .colab-df-convert {\n",
              "      background-color: #3B4455;\n",
              "      fill: #D2E3FC;\n",
              "    }\n",
              "\n",
              "    [theme=dark] .colab-df-convert:hover {\n",
              "      background-color: #434B5C;\n",
              "      box-shadow: 0px 1px 3px 1px rgba(0, 0, 0, 0.15);\n",
              "      filter: drop-shadow(0px 1px 2px rgba(0, 0, 0, 0.3));\n",
              "      fill: #FFFFFF;\n",
              "    }\n",
              "  </style>\n",
              "\n",
              "      <script>\n",
              "        const buttonEl =\n",
              "          document.querySelector('#df-07c74501-1462-441e-8193-cf2908e43b96 button.colab-df-convert');\n",
              "        buttonEl.style.display =\n",
              "          google.colab.kernel.accessAllowed ? 'block' : 'none';\n",
              "\n",
              "        async function convertToInteractive(key) {\n",
              "          const element = document.querySelector('#df-07c74501-1462-441e-8193-cf2908e43b96');\n",
              "          const dataTable =\n",
              "            await google.colab.kernel.invokeFunction('convertToInteractive',\n",
              "                                                     [key], {});\n",
              "          if (!dataTable) return;\n",
              "\n",
              "          const docLinkHtml = 'Like what you see? Visit the ' +\n",
              "            '<a target=\"_blank\" href=https://colab.research.google.com/notebooks/data_table.ipynb>data table notebook</a>'\n",
              "            + ' to learn more about interactive tables.';\n",
              "          element.innerHTML = '';\n",
              "          dataTable['output_type'] = 'display_data';\n",
              "          await google.colab.output.renderOutput(dataTable, element);\n",
              "          const docLink = document.createElement('div');\n",
              "          docLink.innerHTML = docLinkHtml;\n",
              "          element.appendChild(docLink);\n",
              "        }\n",
              "      </script>\n",
              "    </div>\n",
              "  </div>\n",
              "  "
            ],
            "text/plain": [
              "   is_holiday  temperature  weekday  hour  month_day  year  month  \\\n",
              "0           0       275.97        7    21         10  2013     11   \n",
              "1           0       273.39        3    21         27  2013      2   \n",
              "2           0       260.41        4    10         12  2013     12   \n",
              "3           0       301.73        5    20         14  2015      8   \n",
              "4           0       259.98        2    20         24  2013     12   \n",
              "5           0       285.93        3     0          4  2016      5   \n",
              "\n",
              "   weather_type  weather_description  \n",
              "0             2                    7  \n",
              "1             2                   10  \n",
              "2             2                    7  \n",
              "3             3                    5  \n",
              "4             4                    4  \n",
              "5             3                    5  "
            ]
          },
          "execution_count": 13,
          "metadata": {},
          "output_type": "execute_result"
        }
      ],
      "source": [
        "X.head(6)"
      ]
    },
    {
      "cell_type": "code",
      "execution_count": 33,
      "metadata": {
        "colab": {
          "base_uri": "https://localhost:8080/",
          "height": 495
        },
        "id": "fjB2ZRjAmfWP",
        "outputId": "b15d6689-c1b4-44c4-e7b1-965c34a7fd9f"
      },
      "outputs": [
        {
          "name": "stderr",
          "output_type": "stream",
          "text": [
            "findfont: Generic family 'sans-serif' not found because none of the following families were found: SimHei\n",
            "findfont: Generic family 'sans-serif' not found because none of the following families were found: SimHei\n",
            "findfont: Generic family 'sans-serif' not found because none of the following families were found: SimHei\n",
            "findfont: Generic family 'sans-serif' not found because none of the following families were found: SimHei\n",
            "findfont: Generic family 'sans-serif' not found because none of the following families were found: SimHei\n",
            "findfont: Generic family 'sans-serif' not found because none of the following families were found: SimHei\n",
            "findfont: Generic family 'sans-serif' not found because none of the following families were found: SimHei\n",
            "findfont: Generic family 'sans-serif' not found because none of the following families were found: SimHei\n",
            "findfont: Generic family 'sans-serif' not found because none of the following families were found: SimHei\n",
            "findfont: Generic family 'sans-serif' not found because none of the following families were found: SimHei\n",
            "findfont: Generic family 'sans-serif' not found because none of the following families were found: SimHei\n",
            "findfont: Generic family 'sans-serif' not found because none of the following families were found: SimHei\n",
            "findfont: Generic family 'sans-serif' not found because none of the following families were found: SimHei\n",
            "findfont: Generic family 'sans-serif' not found because none of the following families were found: SimHei\n",
            "findfont: Generic family 'sans-serif' not found because none of the following families were found: SimHei\n",
            "findfont: Generic family 'sans-serif' not found because none of the following families were found: SimHei\n",
            "findfont: Generic family 'sans-serif' not found because none of the following families were found: SimHei\n",
            "findfont: Generic family 'sans-serif' not found because none of the following families were found: SimHei\n",
            "findfont: Generic family 'sans-serif' not found because none of the following families were found: SimHei\n",
            "findfont: Generic family 'sans-serif' not found because none of the following families were found: SimHei\n",
            "findfont: Generic family 'sans-serif' not found because none of the following families were found: SimHei\n",
            "findfont: Generic family 'sans-serif' not found because none of the following families were found: SimHei\n",
            "findfont: Generic family 'sans-serif' not found because none of the following families were found: SimHei\n",
            "findfont: Generic family 'sans-serif' not found because none of the following families were found: SimHei\n",
            "findfont: Generic family 'sans-serif' not found because none of the following families were found: SimHei\n",
            "findfont: Generic family 'sans-serif' not found because none of the following families were found: SimHei\n",
            "findfont: Generic family 'sans-serif' not found because none of the following families were found: SimHei\n",
            "findfont: Generic family 'sans-serif' not found because none of the following families were found: SimHei\n",
            "findfont: Generic family 'sans-serif' not found because none of the following families were found: SimHei\n",
            "findfont: Generic family 'sans-serif' not found because none of the following families were found: SimHei\n",
            "findfont: Generic family 'sans-serif' not found because none of the following families were found: SimHei\n",
            "findfont: Generic family 'sans-serif' not found because none of the following families were found: SimHei\n",
            "findfont: Generic family 'sans-serif' not found because none of the following families were found: SimHei\n"
          ]
        },
        {
          "name": "stdout",
          "output_type": "stream",
          "text": [
            "[[<Axes: title={'center': 'is_holiday'}>\n",
            "  <Axes: title={'center': 'temperature'}>\n",
            "  <Axes: title={'center': 'weekday'}>]\n",
            " [<Axes: title={'center': 'hour'}> <Axes: title={'center': 'month_day'}>\n",
            "  <Axes: title={'center': 'year'}>]\n",
            " [<Axes: title={'center': 'month'}>\n",
            "  <Axes: title={'center': 'weather_type'}>\n",
            "  <Axes: title={'center': 'weather_description'}>]]\n"
          ]
        },
        {
          "name": "stderr",
          "output_type": "stream",
          "text": [
            "findfont: Generic family 'sans-serif' not found because none of the following families were found: SimHei\n",
            "findfont: Generic family 'sans-serif' not found because none of the following families were found: SimHei\n",
            "findfont: Generic family 'sans-serif' not found because none of the following families were found: SimHei\n",
            "findfont: Generic family 'sans-serif' not found because none of the following families were found: SimHei\n",
            "findfont: Generic family 'sans-serif' not found because none of the following families were found: SimHei\n",
            "findfont: Generic family 'sans-serif' not found because none of the following families were found: SimHei\n",
            "findfont: Generic family 'sans-serif' not found because none of the following families were found: SimHei\n",
            "findfont: Generic family 'sans-serif' not found because none of the following families were found: SimHei\n",
            "findfont: Generic family 'sans-serif' not found because none of the following families were found: SimHei\n",
            "findfont: Generic family 'sans-serif' not found because none of the following families were found: SimHei\n",
            "findfont: Generic family 'sans-serif' not found because none of the following families were found: SimHei\n",
            "findfont: Generic family 'sans-serif' not found because none of the following families were found: SimHei\n",
            "findfont: Generic family 'sans-serif' not found because none of the following families were found: SimHei\n",
            "findfont: Generic family 'sans-serif' not found because none of the following families were found: SimHei\n",
            "findfont: Generic family 'sans-serif' not found because none of the following families were found: SimHei\n",
            "findfont: Generic family 'sans-serif' not found because none of the following families were found: SimHei\n",
            "findfont: Generic family 'sans-serif' not found because none of the following families were found: SimHei\n",
            "findfont: Generic family 'sans-serif' not found because none of the following families were found: SimHei\n",
            "findfont: Generic family 'sans-serif' not found because none of the following families were found: SimHei\n",
            "findfont: Generic family 'sans-serif' not found because none of the following families were found: SimHei\n",
            "findfont: Generic family 'sans-serif' not found because none of the following families were found: SimHei\n",
            "findfont: Generic family 'sans-serif' not found because none of the following families were found: SimHei\n",
            "findfont: Generic family 'sans-serif' not found because none of the following families were found: SimHei\n",
            "findfont: Generic family 'sans-serif' not found because none of the following families were found: SimHei\n",
            "findfont: Generic family 'sans-serif' not found because none of the following families were found: SimHei\n",
            "findfont: Generic family 'sans-serif' not found because none of the following families were found: SimHei\n",
            "findfont: Generic family 'sans-serif' not found because none of the following families were found: SimHei\n",
            "findfont: Generic family 'sans-serif' not found because none of the following families were found: SimHei\n",
            "findfont: Generic family 'sans-serif' not found because none of the following families were found: SimHei\n",
            "findfont: Generic family 'sans-serif' not found because none of the following families were found: SimHei\n",
            "findfont: Generic family 'sans-serif' not found because none of the following families were found: SimHei\n",
            "findfont: Generic family 'sans-serif' not found because none of the following families were found: SimHei\n",
            "findfont: Generic family 'sans-serif' not found because none of the following families were found: SimHei\n",
            "findfont: Generic family 'sans-serif' not found because none of the following families were found: SimHei\n",
            "findfont: Generic family 'sans-serif' not found because none of the following families were found: SimHei\n",
            "findfont: Generic family 'sans-serif' not found because none of the following families were found: SimHei\n",
            "findfont: Generic family 'sans-serif' not found because none of the following families were found: SimHei\n",
            "findfont: Generic family 'sans-serif' not found because none of the following families were found: SimHei\n",
            "findfont: Generic family 'sans-serif' not found because none of the following families were found: SimHei\n",
            "findfont: Generic family 'sans-serif' not found because none of the following families were found: SimHei\n",
            "findfont: Generic family 'sans-serif' not found because none of the following families were found: SimHei\n",
            "findfont: Generic family 'sans-serif' not found because none of the following families were found: SimHei\n",
            "findfont: Generic family 'sans-serif' not found because none of the following families were found: SimHei\n",
            "findfont: Generic family 'sans-serif' not found because none of the following families were found: SimHei\n",
            "findfont: Generic family 'sans-serif' not found because none of the following families were found: SimHei\n",
            "findfont: Generic family 'sans-serif' not found because none of the following families were found: SimHei\n",
            "findfont: Generic family 'sans-serif' not found because none of the following families were found: SimHei\n",
            "findfont: Generic family 'sans-serif' not found because none of the following families were found: SimHei\n",
            "findfont: Generic family 'sans-serif' not found because none of the following families were found: SimHei\n",
            "findfont: Generic family 'sans-serif' not found because none of the following families were found: SimHei\n",
            "findfont: Generic family 'sans-serif' not found because none of the following families were found: SimHei\n",
            "findfont: Generic family 'sans-serif' not found because none of the following families were found: SimHei\n",
            "findfont: Generic family 'sans-serif' not found because none of the following families were found: SimHei\n",
            "findfont: Generic family 'sans-serif' not found because none of the following families were found: SimHei\n",
            "findfont: Generic family 'sans-serif' not found because none of the following families were found: SimHei\n",
            "findfont: Generic family 'sans-serif' not found because none of the following families were found: SimHei\n",
            "findfont: Generic family 'sans-serif' not found because none of the following families were found: SimHei\n",
            "findfont: Generic family 'sans-serif' not found because none of the following families were found: SimHei\n",
            "findfont: Generic family 'sans-serif' not found because none of the following families were found: SimHei\n",
            "findfont: Generic family 'sans-serif' not found because none of the following families were found: SimHei\n",
            "findfont: Generic family 'sans-serif' not found because none of the following families were found: SimHei\n",
            "findfont: Generic family 'sans-serif' not found because none of the following families were found: SimHei\n",
            "findfont: Generic family 'sans-serif' not found because none of the following families were found: SimHei\n",
            "findfont: Generic family 'sans-serif' not found because none of the following families were found: SimHei\n",
            "findfont: Generic family 'sans-serif' not found because none of the following families were found: SimHei\n",
            "findfont: Generic family 'sans-serif' not found because none of the following families were found: SimHei\n",
            "findfont: Generic family 'sans-serif' not found because none of the following families were found: SimHei\n",
            "findfont: Generic family 'sans-serif' not found because none of the following families were found: SimHei\n",
            "findfont: Generic family 'sans-serif' not found because none of the following families were found: SimHei\n",
            "findfont: Generic family 'sans-serif' not found because none of the following families were found: SimHei\n",
            "findfont: Generic family 'sans-serif' not found because none of the following families were found: SimHei\n",
            "findfont: Generic family 'sans-serif' not found because none of the following families were found: SimHei\n",
            "findfont: Generic family 'sans-serif' not found because none of the following families were found: SimHei\n",
            "findfont: Generic family 'sans-serif' not found because none of the following families were found: SimHei\n",
            "findfont: Generic family 'sans-serif' not found because none of the following families were found: SimHei\n",
            "findfont: Generic family 'sans-serif' not found because none of the following families were found: SimHei\n",
            "findfont: Generic family 'sans-serif' not found because none of the following families were found: SimHei\n",
            "findfont: Generic family 'sans-serif' not found because none of the following families were found: SimHei\n",
            "findfont: Generic family 'sans-serif' not found because none of the following families were found: SimHei\n",
            "findfont: Generic family 'sans-serif' not found because none of the following families were found: SimHei\n",
            "findfont: Generic family 'sans-serif' not found because none of the following families were found: SimHei\n",
            "findfont: Generic family 'sans-serif' not found because none of the following families were found: SimHei\n",
            "findfont: Generic family 'sans-serif' not found because none of the following families were found: SimHei\n",
            "findfont: Generic family 'sans-serif' not found because none of the following families were found: SimHei\n",
            "findfont: Generic family 'sans-serif' not found because none of the following families were found: SimHei\n",
            "findfont: Generic family 'sans-serif' not found because none of the following families were found: SimHei\n",
            "findfont: Generic family 'sans-serif' not found because none of the following families were found: SimHei\n",
            "findfont: Generic family 'sans-serif' not found because none of the following families were found: SimHei\n",
            "findfont: Generic family 'sans-serif' not found because none of the following families were found: SimHei\n",
            "findfont: Generic family 'sans-serif' not found because none of the following families were found: SimHei\n",
            "findfont: Generic family 'sans-serif' not found because none of the following families were found: SimHei\n",
            "findfont: Generic family 'sans-serif' not found because none of the following families were found: SimHei\n",
            "findfont: Generic family 'sans-serif' not found because none of the following families were found: SimHei\n",
            "findfont: Generic family 'sans-serif' not found because none of the following families were found: SimHei\n",
            "findfont: Generic family 'sans-serif' not found because none of the following families were found: SimHei\n",
            "findfont: Generic family 'sans-serif' not found because none of the following families were found: SimHei\n",
            "findfont: Generic family 'sans-serif' not found because none of the following families were found: SimHei\n",
            "findfont: Generic family 'sans-serif' not found because none of the following families were found: SimHei\n",
            "findfont: Generic family 'sans-serif' not found because none of the following families were found: SimHei\n",
            "findfont: Generic family 'sans-serif' not found because none of the following families were found: SimHei\n",
            "findfont: Generic family 'sans-serif' not found because none of the following families were found: SimHei\n",
            "findfont: Generic family 'sans-serif' not found because none of the following families were found: SimHei\n",
            "findfont: Generic family 'sans-serif' not found because none of the following families were found: SimHei\n",
            "findfont: Generic family 'sans-serif' not found because none of the following families were found: SimHei\n",
            "findfont: Generic family 'sans-serif' not found because none of the following families were found: SimHei\n",
            "findfont: Generic family 'sans-serif' not found because none of the following families were found: SimHei\n",
            "findfont: Generic family 'sans-serif' not found because none of the following families were found: SimHei\n",
            "findfont: Generic family 'sans-serif' not found because none of the following families were found: SimHei\n",
            "findfont: Generic family 'sans-serif' not found because none of the following families were found: SimHei\n",
            "findfont: Generic family 'sans-serif' not found because none of the following families were found: SimHei\n",
            "findfont: Generic family 'sans-serif' not found because none of the following families were found: SimHei\n",
            "findfont: Generic family 'sans-serif' not found because none of the following families were found: SimHei\n",
            "findfont: Generic family 'sans-serif' not found because none of the following families were found: SimHei\n",
            "findfont: Generic family 'sans-serif' not found because none of the following families were found: SimHei\n",
            "findfont: Generic family 'sans-serif' not found because none of the following families were found: SimHei\n",
            "findfont: Generic family 'sans-serif' not found because none of the following families were found: SimHei\n",
            "findfont: Generic family 'sans-serif' not found because none of the following families were found: SimHei\n",
            "findfont: Generic family 'sans-serif' not found because none of the following families were found: SimHei\n",
            "findfont: Generic family 'sans-serif' not found because none of the following families were found: SimHei\n",
            "findfont: Generic family 'sans-serif' not found because none of the following families were found: SimHei\n",
            "findfont: Generic family 'sans-serif' not found because none of the following families were found: SimHei\n",
            "findfont: Generic family 'sans-serif' not found because none of the following families were found: SimHei\n",
            "findfont: Generic family 'sans-serif' not found because none of the following families were found: SimHei\n",
            "findfont: Generic family 'sans-serif' not found because none of the following families were found: SimHei\n",
            "findfont: Generic family 'sans-serif' not found because none of the following families were found: SimHei\n",
            "findfont: Generic family 'sans-serif' not found because none of the following families were found: SimHei\n",
            "findfont: Generic family 'sans-serif' not found because none of the following families were found: SimHei\n",
            "findfont: Generic family 'sans-serif' not found because none of the following families were found: SimHei\n",
            "findfont: Generic family 'sans-serif' not found because none of the following families were found: SimHei\n",
            "findfont: Generic family 'sans-serif' not found because none of the following families were found: SimHei\n",
            "findfont: Generic family 'sans-serif' not found because none of the following families were found: SimHei\n",
            "findfont: Generic family 'sans-serif' not found because none of the following families were found: SimHei\n",
            "findfont: Generic family 'sans-serif' not found because none of the following families were found: SimHei\n",
            "findfont: Generic family 'sans-serif' not found because none of the following families were found: SimHei\n",
            "findfont: Generic family 'sans-serif' not found because none of the following families were found: SimHei\n",
            "findfont: Generic family 'sans-serif' not found because none of the following families were found: SimHei\n",
            "findfont: Generic family 'sans-serif' not found because none of the following families were found: SimHei\n",
            "findfont: Generic family 'sans-serif' not found because none of the following families were found: SimHei\n",
            "findfont: Generic family 'sans-serif' not found because none of the following families were found: SimHei\n",
            "findfont: Generic family 'sans-serif' not found because none of the following families were found: SimHei\n",
            "findfont: Generic family 'sans-serif' not found because none of the following families were found: SimHei\n",
            "findfont: Generic family 'sans-serif' not found because none of the following families were found: SimHei\n",
            "findfont: Generic family 'sans-serif' not found because none of the following families were found: SimHei\n"
          ]
        },
        {
          "data": {
            "image/png": "[encoded data removed]",
            "text/plain": [
              "<Figure size 640x480 with 9 Axes>"
            ]
          },
          "metadata": {},
          "output_type": "display_data"
        }
      ],
      "source": [
        "print(data[features].hist(bins=20,))"
      ]
    },
    {
      "cell_type": "code",
      "execution_count": 14,
      "metadata": {
        "id": "fmbQJbngl1Cm"
      },
      "outputs": [],
      "source": [
        "# data['traffic_volume'].hist(bins=20)"
      ]
    },
    {
      "cell_type": "markdown",
      "metadata": {
        "id": "jlMn2VaklmDm"
      },
      "source": [
        "#Feature Scaling"
      ]
    },
    {
      "cell_type": "code",
      "execution_count": 37,
      "metadata": {
        "id": "uF1n7zfzlqoC"
      },
      "outputs": [
        {
          "name": "stdout",
          "output_type": "stream",
          "text": [
            "Before scaling:\n",
            "is_holiday               int64\n",
            "temperature            float64\n",
            "weekday                  int64\n",
            "hour                     int64\n",
            "month_day                int64\n",
            "year                     int64\n",
            "month                    int64\n",
            "weather_type             int64\n",
            "weather_description      int64\n",
            "dtype: object\n",
            "   is_holiday  temperature  weekday  hour  month_day  year  month  \\\n",
            "0           1       286.37        1     0         27  2013      5   \n",
            "1           1       289.20        5     0          3  2015      7   \n",
            "2           1       274.34        4     0         24  2016     11   \n",
            "3           1       277.22        4     0         26  2015     11   \n",
            "4           1       293.17        1     0          5  2016      9   \n",
            "\n",
            "   weather_type  weather_description  \n",
            "0             0                    0  \n",
            "1             0                    0  \n",
            "2             0                    0  \n",
            "3             0                    0  \n",
            "4             0                    0  \n",
            "\n",
            "After scaling:\n",
            "X (first 5 rows):\n",
            " [[0.         0.76628596 0.         0.         0.89655172 0.2\n",
            "  0.36363636 0.         0.        ]\n",
            " [0.         0.82614213 1.         0.         0.06896552 0.6\n",
            "  0.54545455 0.         0.        ]\n",
            " [0.         0.51184433 0.75       0.         0.79310345 0.8\n",
            "  0.90909091 0.         0.        ]\n",
            " [0.         0.57275804 0.75       0.         0.86206897 0.6\n",
            "  0.90909091 0.         0.        ]\n",
            " [0.         0.91010998 0.         0.         0.13793103 0.8\n",
            "  0.72727273 0.         0.        ]]\n",
            "y (first 5 values):\n",
            " [0.38563327 0.47637051 0.29111531 0.35727788 0.57561437]\n"
          ]
        }
      ],
      "source": [
        "import pandas as pd\n",
        "import warnings\n",
        "from sklearn.preprocessing import MinMaxScaler\n",
        "\n",
        "warnings.filterwarnings('ignore')\n",
        "\n",
        "\n",
        "label_columns = ['weather_type', 'weather_description']\n",
        "numeric_columns = ['is_holiday', 'temperature', 'weekday', 'hour', 'month_day', 'year', 'month']\n",
        "\n",
        "\n",
        "X = data[numeric_columns + label_columns]\n",
        "y = data[['traffic_volume']]  \n",
        "\n",
        "\n",
        "print(\"Before scaling:\")\n",
        "print(X.dtypes)\n",
        "print(X.head())\n",
        "\n",
        "\n",
        "x_scaler = MinMaxScaler()\n",
        "X_scaled = x_scaler.fit_transform(X)\n",
        "\n",
        "\n",
        "y_scaler = MinMaxScaler()\n",
        "y_scaled = y_scaler.fit_transform(y).flatten()\n",
        "\n",
        "print(\"\\nAfter scaling:\")\n",
        "print(\"X (first 5 rows):\\n\", X_scaled[:5])\n",
        "print(\"y (first 5 values):\\n\", y_scaled[:5])\n"
      ]
    },
    {
      "cell_type": "code",
      "execution_count": 38,
      "metadata": {
        "colab": {
          "base_uri": "https://localhost:8080/"
        },
        "id": "kYXMZO-elrd9",
        "outputId": "cc6df361-12e8-46b0-e631-68c6608de300"
      },
      "outputs": [
        {
          "name": "stdout",
          "output_type": "stream",
          "text": [
            "   is_holiday  temperature  weekday  hour  month_day  year  month  \\\n",
            "0           1       286.37        1     0         27  2013      5   \n",
            "1           1       289.20        5     0          3  2015      7   \n",
            "2           1       274.34        4     0         24  2016     11   \n",
            "3           1       277.22        4     0         26  2015     11   \n",
            "4           1       293.17        1     0          5  2016      9   \n",
            "\n",
            "   weather_type  weather_description  \n",
            "0             0                    0  \n",
            "1             0                    0  \n",
            "2             0                    0  \n",
            "3             0                    0  \n",
            "4             0                    0  \n"
          ]
        }
      ],
      "source": [
        "print(X[:5])"
      ]
    },
    {
      "cell_type": "markdown",
      "metadata": {
        "id": "4It7y43LoIlS"
      },
      "source": [
        "#Visualization"
      ]
    },
    {
      "cell_type": "code",
      "execution_count": 39,
      "metadata": {
        "colab": {
          "base_uri": "https://localhost:8080/",
          "height": 1000
        },
        "id": "arNDfHuumYaH",
        "outputId": "68d24a32-42c9-4339-b817-f80dbd2e2df8"
      },
      "outputs": [
        {
          "name": "stderr",
          "output_type": "stream",
          "text": [
            "findfont: Generic family 'sans-serif' not found because none of the following families were found: SimHei\n",
            "findfont: Generic family 'sans-serif' not found because none of the following families were found: SimHei\n",
            "findfont: Generic family 'sans-serif' not found because none of the following families were found: SimHei\n",
            "findfont: Generic family 'sans-serif' not found because none of the following families were found: SimHei\n",
            "findfont: Generic family 'sans-serif' not found because none of the following families were found: SimHei\n",
            "findfont: Generic family 'sans-serif' not found because none of the following families were found: SimHei\n",
            "findfont: Generic family 'sans-serif' not found because none of the following families were found: SimHei\n",
            "findfont: Generic family 'sans-serif' not found because none of the following families were found: SimHei\n",
            "findfont: Generic family 'sans-serif' not found because none of the following families were found: SimHei\n",
            "findfont: Generic family 'sans-serif' not found because none of the following families were found: SimHei\n",
            "findfont: Generic family 'sans-serif' not found because none of the following families were found: SimHei\n",
            "findfont: Generic family 'sans-serif' not found because none of the following families were found: SimHei\n",
            "findfont: Generic family 'sans-serif' not found because none of the following families were found: SimHei\n",
            "findfont: Generic family 'sans-serif' not found because none of the following families were found: SimHei\n",
            "findfont: Generic family 'sans-serif' not found because none of the following families were found: SimHei\n",
            "findfont: Generic family 'sans-serif' not found because none of the following families were found: SimHei\n",
            "findfont: Generic family 'sans-serif' not found because none of the following families were found: SimHei\n",
            "findfont: Generic family 'sans-serif' not found because none of the following families were found: SimHei\n",
            "findfont: Generic family 'sans-serif' not found because none of the following families were found: SimHei\n",
            "findfont: Generic family 'sans-serif' not found because none of the following families were found: SimHei\n",
            "findfont: Generic family 'sans-serif' not found because none of the following families were found: SimHei\n",
            "findfont: Generic family 'sans-serif' not found because none of the following families were found: SimHei\n",
            "findfont: Generic family 'sans-serif' not found because none of the following families were found: SimHei\n",
            "findfont: Generic family 'sans-serif' not found because none of the following families were found: SimHei\n",
            "findfont: Generic family 'sans-serif' not found because none of the following families were found: SimHei\n",
            "findfont: Generic family 'sans-serif' not found because none of the following families were found: SimHei\n",
            "findfont: Generic family 'sans-serif' not found because none of the following families were found: SimHei\n",
            "findfont: Generic family 'sans-serif' not found because none of the following families were found: SimHei\n",
            "findfont: Generic family 'sans-serif' not found because none of the following families were found: SimHei\n",
            "findfont: Generic family 'sans-serif' not found because none of the following families were found: SimHei\n",
            "findfont: Generic family 'sans-serif' not found because none of the following families were found: SimHei\n",
            "findfont: Generic family 'sans-serif' not found because none of the following families were found: SimHei\n",
            "findfont: Generic family 'sans-serif' not found because none of the following families were found: SimHei\n",
            "findfont: Generic family 'sans-serif' not found because none of the following families were found: SimHei\n",
            "findfont: Generic family 'sans-serif' not found because none of the following families were found: SimHei\n",
            "findfont: Generic family 'sans-serif' not found because none of the following families were found: SimHei\n",
            "findfont: Generic family 'sans-serif' not found because none of the following families were found: SimHei\n",
            "findfont: Generic family 'sans-serif' not found because none of the following families were found: SimHei\n",
            "findfont: Generic family 'sans-serif' not found because none of the following families were found: SimHei\n",
            "findfont: Generic family 'sans-serif' not found because none of the following families were found: SimHei\n",
            "findfont: Generic family 'sans-serif' not found because none of the following families were found: SimHei\n",
            "findfont: Generic family 'sans-serif' not found because none of the following families were found: SimHei\n",
            "findfont: Generic family 'sans-serif' not found because none of the following families were found: SimHei\n",
            "findfont: Generic family 'sans-serif' not found because none of the following families were found: SimHei\n",
            "findfont: Generic family 'sans-serif' not found because none of the following families were found: SimHei\n",
            "findfont: Generic family 'sans-serif' not found because none of the following families were found: SimHei\n",
            "findfont: Generic family 'sans-serif' not found because none of the following families were found: SimHei\n",
            "findfont: Generic family 'sans-serif' not found because none of the following families were found: SimHei\n",
            "findfont: Generic family 'sans-serif' not found because none of the following families were found: SimHei\n",
            "findfont: Generic family 'sans-serif' not found because none of the following families were found: SimHei\n",
            "findfont: Generic family 'sans-serif' not found because none of the following families were found: SimHei\n",
            "findfont: Generic family 'sans-serif' not found because none of the following families were found: SimHei\n",
            "findfont: Generic family 'sans-serif' not found because none of the following families were found: SimHei\n",
            "findfont: Generic family 'sans-serif' not found because none of the following families were found: SimHei\n",
            "findfont: Generic family 'sans-serif' not found because none of the following families were found: SimHei\n",
            "findfont: Generic family 'sans-serif' not found because none of the following families were found: SimHei\n",
            "findfont: Generic family 'sans-serif' not found because none of the following families were found: SimHei\n",
            "findfont: Generic family 'sans-serif' not found because none of the following families were found: SimHei\n",
            "findfont: Generic family 'sans-serif' not found because none of the following families were found: SimHei\n",
            "findfont: Generic family 'sans-serif' not found because none of the following families were found: SimHei\n",
            "findfont: Generic family 'sans-serif' not found because none of the following families were found: SimHei\n",
            "findfont: Generic family 'sans-serif' not found because none of the following families were found: SimHei\n",
            "findfont: Generic family 'sans-serif' not found because none of the following families were found: SimHei\n",
            "findfont: Generic family 'sans-serif' not found because none of the following families were found: SimHei\n",
            "findfont: Generic family 'sans-serif' not found because none of the following families were found: SimHei\n",
            "findfont: Generic family 'sans-serif' not found because none of the following families were found: SimHei\n",
            "findfont: Generic family 'sans-serif' not found because none of the following families were found: SimHei\n",
            "findfont: Generic family 'sans-serif' not found because none of the following families were found: SimHei\n",
            "findfont: Generic family 'sans-serif' not found because none of the following families were found: SimHei\n",
            "findfont: Generic family 'sans-serif' not found because none of the following families were found: SimHei\n",
            "findfont: Generic family 'sans-serif' not found because none of the following families were found: SimHei\n",
            "findfont: Generic family 'sans-serif' not found because none of the following families were found: SimHei\n",
            "findfont: Generic family 'sans-serif' not found because none of the following families were found: SimHei\n",
            "findfont: Generic family 'sans-serif' not found because none of the following families were found: SimHei\n",
            "findfont: Generic family 'sans-serif' not found because none of the following families were found: SimHei\n",
            "findfont: Generic family 'sans-serif' not found because none of the following families were found: SimHei\n",
            "findfont: Generic family 'sans-serif' not found because none of the following families were found: SimHei\n",
            "findfont: Generic family 'sans-serif' not found because none of the following families were found: SimHei\n",
            "findfont: Generic family 'sans-serif' not found because none of the following families were found: SimHei\n",
            "findfont: Generic family 'sans-serif' not found because none of the following families were found: SimHei\n",
            "findfont: Generic family 'sans-serif' not found because none of the following families were found: SimHei\n",
            "findfont: Generic family 'sans-serif' not found because none of the following families were found: SimHei\n",
            "findfont: Generic family 'sans-serif' not found because none of the following families were found: SimHei\n",
            "findfont: Generic family 'sans-serif' not found because none of the following families were found: SimHei\n",
            "findfont: Generic family 'sans-serif' not found because none of the following families were found: SimHei\n",
            "findfont: Generic family 'sans-serif' not found because none of the following families were found: SimHei\n",
            "findfont: Generic family 'sans-serif' not found because none of the following families were found: SimHei\n",
            "findfont: Generic family 'sans-serif' not found because none of the following families were found: SimHei\n",
            "findfont: Generic family 'sans-serif' not found because none of the following families were found: SimHei\n",
            "findfont: Generic family 'sans-serif' not found because none of the following families were found: SimHei\n",
            "findfont: Generic family 'sans-serif' not found because none of the following families were found: SimHei\n",
            "findfont: Generic family 'sans-serif' not found because none of the following families were found: SimHei\n",
            "findfont: Generic family 'sans-serif' not found because none of the following families were found: SimHei\n",
            "findfont: Generic family 'sans-serif' not found because none of the following families were found: SimHei\n",
            "findfont: Generic family 'sans-serif' not found because none of the following families were found: SimHei\n",
            "findfont: Generic family 'sans-serif' not found because none of the following families were found: SimHei\n",
            "findfont: Generic family 'sans-serif' not found because none of the following families were found: SimHei\n",
            "findfont: Generic family 'sans-serif' not found because none of the following families were found: SimHei\n",
            "findfont: Generic family 'sans-serif' not found because none of the following families were found: SimHei\n",
            "findfont: Generic family 'sans-serif' not found because none of the following families were found: SimHei\n",
            "findfont: Generic family 'sans-serif' not found because none of the following families were found: SimHei\n",
            "findfont: Generic family 'sans-serif' not found because none of the following families were found: SimHei\n",
            "findfont: Generic family 'sans-serif' not found because none of the following families were found: SimHei\n",
            "findfont: Generic family 'sans-serif' not found because none of the following families were found: SimHei\n",
            "findfont: Generic family 'sans-serif' not found because none of the following families were found: SimHei\n",
            "findfont: Generic family 'sans-serif' not found because none of the following families were found: SimHei\n",
            "findfont: Generic family 'sans-serif' not found because none of the following families were found: SimHei\n",
            "findfont: Generic family 'sans-serif' not found because none of the following families were found: SimHei\n",
            "findfont: Generic family 'sans-serif' not found because none of the following families were found: SimHei\n",
            "findfont: Generic family 'sans-serif' not found because none of the following families were found: SimHei\n",
            "findfont: Generic family 'sans-serif' not found because none of the following families were found: SimHei\n",
            "findfont: Generic family 'sans-serif' not found because none of the following families were found: SimHei\n",
            "findfont: Generic family 'sans-serif' not found because none of the following families were found: SimHei\n",
            "findfont: Generic family 'sans-serif' not found because none of the following families were found: SimHei\n",
            "findfont: Generic family 'sans-serif' not found because none of the following families were found: SimHei\n",
            "findfont: Generic family 'sans-serif' not found because none of the following families were found: SimHei\n",
            "findfont: Generic family 'sans-serif' not found because none of the following families were found: SimHei\n",
            "findfont: Generic family 'sans-serif' not found because none of the following families were found: SimHei\n",
            "findfont: Generic family 'sans-serif' not found because none of the following families were found: SimHei\n",
            "findfont: Generic family 'sans-serif' not found because none of the following families were found: SimHei\n",
            "findfont: Generic family 'sans-serif' not found because none of the following families were found: SimHei\n",
            "findfont: Generic family 'sans-serif' not found because none of the following families were found: SimHei\n",
            "findfont: Generic family 'sans-serif' not found because none of the following families were found: SimHei\n",
            "findfont: Generic family 'sans-serif' not found because none of the following families were found: SimHei\n",
            "findfont: Generic family 'sans-serif' not found because none of the following families were found: SimHei\n",
            "findfont: Generic family 'sans-serif' not found because none of the following families were found: SimHei\n",
            "findfont: Generic family 'sans-serif' not found because none of the following families were found: SimHei\n",
            "findfont: Generic family 'sans-serif' not found because none of the following families were found: SimHei\n",
            "findfont: Generic family 'sans-serif' not found because none of the following families were found: SimHei\n",
            "findfont: Generic family 'sans-serif' not found because none of the following families were found: SimHei\n",
            "findfont: Generic family 'sans-serif' not found because none of the following families were found: SimHei\n",
            "findfont: Generic family 'sans-serif' not found because none of the following families were found: SimHei\n",
            "findfont: Generic family 'sans-serif' not found because none of the following families were found: SimHei\n",
            "findfont: Generic family 'sans-serif' not found because none of the following families were found: SimHei\n",
            "findfont: Generic family 'sans-serif' not found because none of the following families were found: SimHei\n",
            "findfont: Generic family 'sans-serif' not found because none of the following families were found: SimHei\n",
            "findfont: Generic family 'sans-serif' not found because none of the following families were found: SimHei\n",
            "findfont: Generic family 'sans-serif' not found because none of the following families were found: SimHei\n",
            "findfont: Generic family 'sans-serif' not found because none of the following families were found: SimHei\n",
            "findfont: Generic family 'sans-serif' not found because none of the following families were found: SimHei\n",
            "findfont: Generic family 'sans-serif' not found because none of the following families were found: SimHei\n",
            "findfont: Generic family 'sans-serif' not found because none of the following families were found: SimHei\n",
            "findfont: Generic family 'sans-serif' not found because none of the following families were found: SimHei\n",
            "findfont: Generic family 'sans-serif' not found because none of the following families were found: SimHei\n",
            "findfont: Generic family 'sans-serif' not found because none of the following families were found: SimHei\n",
            "findfont: Generic family 'sans-serif' not found because none of the following families were found: SimHei\n",
            "findfont: Generic family 'sans-serif' not found because none of the following families were found: SimHei\n",
            "findfont: Generic family 'sans-serif' not found because none of the following families were found: SimHei\n",
            "findfont: Generic family 'sans-serif' not found because none of the following families were found: SimHei\n",
            "findfont: Generic family 'sans-serif' not found because none of the following families were found: SimHei\n",
            "findfont: Generic family 'sans-serif' not found because none of the following families were found: SimHei\n",
            "findfont: Generic family 'sans-serif' not found because none of the following families were found: SimHei\n",
            "findfont: Generic family 'sans-serif' not found because none of the following families were found: SimHei\n",
            "findfont: Generic family 'sans-serif' not found because none of the following families were found: SimHei\n",
            "findfont: Generic family 'sans-serif' not found because none of the following families were found: SimHei\n",
            "findfont: Generic family 'sans-serif' not found because none of the following families were found: SimHei\n",
            "findfont: Generic family 'sans-serif' not found because none of the following families were found: SimHei\n",
            "findfont: Generic family 'sans-serif' not found because none of the following families were found: SimHei\n",
            "findfont: Generic family 'sans-serif' not found because none of the following families were found: SimHei\n",
            "findfont: Generic family 'sans-serif' not found because none of the following families were found: SimHei\n",
            "findfont: Generic family 'sans-serif' not found because none of the following families were found: SimHei\n",
            "findfont: Generic family 'sans-serif' not found because none of the following families were found: SimHei\n",
            "findfont: Generic family 'sans-serif' not found because none of the following families were found: SimHei\n",
            "findfont: Generic family 'sans-serif' not found because none of the following families were found: SimHei\n",
            "findfont: Generic family 'sans-serif' not found because none of the following families were found: SimHei\n",
            "findfont: Generic family 'sans-serif' not found because none of the following families were found: SimHei\n",
            "findfont: Generic family 'sans-serif' not found because none of the following families were found: SimHei\n",
            "findfont: Generic family 'sans-serif' not found because none of the following families were found: SimHei\n",
            "findfont: Generic family 'sans-serif' not found because none of the following families were found: SimHei\n",
            "findfont: Generic family 'sans-serif' not found because none of the following families were found: SimHei\n",
            "findfont: Generic family 'sans-serif' not found because none of the following families were found: SimHei\n"
          ]
        },
        {
          "data": {
            "image/png": "[encoded data removed]",
            "text/plain": [
              "<Figure size 800x1600 with 4 Axes>"
            ]
          },
          "metadata": {},
          "output_type": "display_data"
        }
      ],
      "source": [
        "metrics = ['month', 'month_day', 'weekday', 'hour']\n",
        "fig = plt.figure(figsize=(8, 4*len(metrics)))\n",
        "for i, metric in enumerate(metrics):\n",
        "\tax = fig.add_subplot(len(metrics), 1, i+1)\n",
        "\tax.plot(data.groupby(metric)['traffic_volume'].mean(), '-o')\n",
        "\tax.set_xlabel(metric)\n",
        "\tax.set_ylabel(\"Mean Traffic\")\n",
        "\tax.set_title(f\"Traffic Trend by {metric}\")\n",
        "plt.tight_layout()\n",
        "plt.show()"
      ]
    },
    {
      "cell_type": "code",
      "execution_count": null,
      "metadata": {
        "id": "8IOlp3ZqjE3n"
      },
      "outputs": [],
      "source": []
    },
    {
      "cell_type": "markdown",
      "metadata": {
        "id": "qcpADogml9lD"
      },
      "source": [
        "#Train the Model"
      ]
    },
    {
      "cell_type": "code",
      "execution_count": 40,
      "metadata": {
        "colab": {
          "base_uri": "https://localhost:8080/"
        },
        "id": "w_JxqtgkmA-Q",
        "outputId": "439f6fc3-7d95-4dbd-a0e3-df172a07f472"
      },
      "outputs": [
        {
          "name": "stdout",
          "output_type": "stream",
          "text": [
            "predicted output := [870.44119948 866.36428776 870.86834185 871.70704859 867.92454739\n",
            " 872.29350685 866.35284967 858.57730601 868.91690663 871.70704859]\n",
            "Actual output :=    traffic_volume\n",
            "0             863\n",
            "1             959\n",
            "2             763\n",
            "3             833\n",
            "4            1064\n",
            "5             967\n",
            "6             615\n",
            "7            1513\n",
            "8             572\n",
            "9             833\n"
          ]
        }
      ],
      "source": [
        "regr = MLPRegressor(random_state=1, max_iter=500).fit(X, y)\n",
        "new = []\n",
        "print('predicted output :=',regr.predict(X[:10]))\n",
        "print('Actual output :=',y[:10])"
      ]
    },
    {
      "cell_type": "code",
      "execution_count": 41,
      "metadata": {
        "colab": {
          "base_uri": "https://localhost:8080/"
        },
        "id": "c5-VBpbNRIxI",
        "outputId": "e1b92146-97ab-4506-f240-72af61d1e20e"
      },
      "outputs": [
        {
          "name": "stdout",
          "output_type": "stream",
          "text": [
            "Mean Absolute Error: 189.64186134048467\n"
          ]
        }
      ],
      "source": [
        "# error eval\n",
        "from sklearn.model_selection import train_test_split\n",
        "from sklearn.metrics import mean_absolute_error\n",
        "trainX, testX, trainY, testY = train_test_split(X, y, test_size=0.2)\n",
        "y_pred = regr.predict(testX)\n",
        "print('Mean Absolute Error:', mean_absolute_error(testY, y_pred))\n",
        "##############################"
      ]
    },
    {
      "cell_type": "code",
      "execution_count": 42,
      "metadata": {
        "colab": {
          "base_uri": "https://localhost:8080/"
        },
        "id": "YguC21Lcoeup",
        "outputId": "1e1cb121-2e49-4f02-bd4a-ade13a7676b1"
      },
      "outputs": [
        {
          "name": "stdout",
          "output_type": "stream",
          "text": [
            "['is_holiday', 'temperature', 'weekday', 'hour', 'month_day', 'year', 'month', 'weather_type', 'weather_description']\n"
          ]
        }
      ],
      "source": [
        "print(features)"
      ]
    },
    {
      "cell_type": "code",
      "execution_count": 43,
      "metadata": {
        "colab": {
          "base_uri": "https://localhost:8080/",
          "height": 206
        },
        "id": "8_rgNNZ5oigr",
        "outputId": "b4ee7cfb-ccd3-4c8c-d91b-0e622d006884"
      },
      "outputs": [
        {
          "data": {
            "text/html": [
              "<div>\n",
              "<style scoped>\n",
              "    .dataframe tbody tr th:only-of-type {\n",
              "        vertical-align: middle;\n",
              "    }\n",
              "\n",
              "    .dataframe tbody tr th {\n",
              "        vertical-align: top;\n",
              "    }\n",
              "\n",
              "    .dataframe thead th {\n",
              "        text-align: right;\n",
              "    }\n",
              "</style>\n",
              "<table border=\"1\" class=\"dataframe\">\n",
              "  <thead>\n",
              "    <tr style=\"text-align: right;\">\n",
              "      <th></th>\n",
              "      <th>is_holiday</th>\n",
              "      <th>temperature</th>\n",
              "      <th>weekday</th>\n",
              "      <th>hour</th>\n",
              "      <th>month_day</th>\n",
              "      <th>year</th>\n",
              "      <th>month</th>\n",
              "      <th>weather_type</th>\n",
              "      <th>weather_description</th>\n",
              "    </tr>\n",
              "  </thead>\n",
              "  <tbody>\n",
              "    <tr>\n",
              "      <th>0</th>\n",
              "      <td>1</td>\n",
              "      <td>286.37</td>\n",
              "      <td>1</td>\n",
              "      <td>0</td>\n",
              "      <td>27</td>\n",
              "      <td>2013</td>\n",
              "      <td>5</td>\n",
              "      <td>0</td>\n",
              "      <td>0</td>\n",
              "    </tr>\n",
              "    <tr>\n",
              "      <th>1</th>\n",
              "      <td>1</td>\n",
              "      <td>289.20</td>\n",
              "      <td>5</td>\n",
              "      <td>0</td>\n",
              "      <td>3</td>\n",
              "      <td>2015</td>\n",
              "      <td>7</td>\n",
              "      <td>0</td>\n",
              "      <td>0</td>\n",
              "    </tr>\n",
              "    <tr>\n",
              "      <th>2</th>\n",
              "      <td>1</td>\n",
              "      <td>274.34</td>\n",
              "      <td>4</td>\n",
              "      <td>0</td>\n",
              "      <td>24</td>\n",
              "      <td>2016</td>\n",
              "      <td>11</td>\n",
              "      <td>0</td>\n",
              "      <td>0</td>\n",
              "    </tr>\n",
              "    <tr>\n",
              "      <th>3</th>\n",
              "      <td>1</td>\n",
              "      <td>277.22</td>\n",
              "      <td>4</td>\n",
              "      <td>0</td>\n",
              "      <td>26</td>\n",
              "      <td>2015</td>\n",
              "      <td>11</td>\n",
              "      <td>0</td>\n",
              "      <td>0</td>\n",
              "    </tr>\n",
              "    <tr>\n",
              "      <th>4</th>\n",
              "      <td>1</td>\n",
              "      <td>293.17</td>\n",
              "      <td>1</td>\n",
              "      <td>0</td>\n",
              "      <td>5</td>\n",
              "      <td>2016</td>\n",
              "      <td>9</td>\n",
              "      <td>0</td>\n",
              "      <td>0</td>\n",
              "    </tr>\n",
              "  </tbody>\n",
              "</table>\n",
              "</div>"
            ],
            "text/plain": [
              "   is_holiday  temperature  weekday  hour  month_day  year  month  \\\n",
              "0           1       286.37        1     0         27  2013      5   \n",
              "1           1       289.20        5     0          3  2015      7   \n",
              "2           1       274.34        4     0         24  2016     11   \n",
              "3           1       277.22        4     0         26  2015     11   \n",
              "4           1       293.17        1     0          5  2016      9   \n",
              "\n",
              "   weather_type  weather_description  \n",
              "0             0                    0  \n",
              "1             0                    0  \n",
              "2             0                    0  \n",
              "3             0                    0  \n",
              "4             0                    0  "
            ]
          },
          "execution_count": 43,
          "metadata": {},
          "output_type": "execute_result"
        }
      ],
      "source": [
        "data[features].head(5)"
      ]
    },
    {
      "cell_type": "markdown",
      "metadata": {
        "id": "vLx7CxtioYn3"
      },
      "source": [
        "#User input"
      ]
    },
    {
      "cell_type": "code",
      "execution_count": 44,
      "metadata": {
        "colab": {
          "base_uri": "https://localhost:8080/"
        },
        "id": "uvI4vBoloYSz",
        "outputId": "938281d8-5ab0-4519-94eb-174fd61dc953"
      },
      "outputs": [
        {
          "name": "stdout",
          "output_type": "stream",
          "text": [
            "Before inverse Scaling : [5.52880925]\n"
          ]
        }
      ],
      "source": [
        "ip=[0,89,2,288.28,1,9,2,2012,10]\n",
        "ip = x_scaler.transform([ip])\n",
        "out=regr.predict(ip)\n",
        "print('Before inverse Scaling :',out)"
      ]
    },
    {
      "cell_type": "code",
      "execution_count": 45,
      "metadata": {
        "colab": {
          "base_uri": "https://localhost:8080/"
        },
        "id": "7dNibTZroYIt",
        "outputId": "c6817f46-4b5c-40e2-963b-73129400f0d5"
      },
      "outputs": [
        {
          "name": "stdout",
          "output_type": "stream",
          "text": [
            "Traffic Volume :  [[6304.48018135]]\n"
          ]
        }
      ],
      "source": [
        "y_pred = y_scaler.inverse_transform([out])\n",
        "print('Traffic Volume : ',y_pred)"
      ]
    },
    {
      "cell_type": "code",
      "execution_count": 46,
      "metadata": {
        "colab": {
          "base_uri": "https://localhost:8080/"
        },
        "id": "LO-UAQfkpXhL",
        "outputId": "a97e83f9-de01-49bf-f69c-0481ac8f4a1b"
      },
      "outputs": [
        {
          "name": "stdout",
          "output_type": "stream",
          "text": [
            "Worst case\n"
          ]
        }
      ],
      "source": [
        "if(y_pred<=1000):\n",
        "  print(\"No Traffic \")\n",
        "elif y_pred>1000 and y_pred<=3000:\n",
        "  print(\"Busy or Normal Traffic\")\n",
        "elif y_pred>3000 and y_pred<=5500:\n",
        "  print(\"heavy Traffic\")\n",
        "else:\n",
        "  print(\"Worst case\")"
      ]
    },
    {
      "cell_type": "markdown",
      "metadata": {
        "id": "UfaHUYVfrpm2"
      },
      "source": [
        "#Evaluating Metrics "
      ]
    },
    {
      "cell_type": "code",
      "execution_count": null,
      "metadata": {
        "id": "HQA61u4Irorp"
      },
      "outputs": [],
      "source": [
        "# def relative_absolute_error(true, pred):\n",
        "#     true_mean = np.mean(true)\n",
        "#     squared_error_num = np.sum(np.abs(true - pred))\n",
        "#     squared_error_den = np.sum(np.abs(true - true_mean))\n",
        "#     rae_loss = squared_error_num / squared_error_den\n",
        "#     return rae_loss\n",
        "# def mean_bias_error(true, pred):\n",
        "#     bias_error = true - pred\n",
        "#     mbe_loss = np.mean(np.sum(diff) / true.size)\n",
        "#     return mbe_loss\n",
        "# def mean_absolute_percentage_error(true, pred):\n",
        "#     abs_error = (np.abs(true - pred)) / true\n",
        "#     sum_abs_error = np.sum(abs_error)\n",
        "#     mape_loss = (sum_abs_error / true.size) * 100\n",
        "#     return mape_loss\n",
        "# def mean_squared_error(true, pred):\n",
        "#     squared_error = np.square(true - pred) \n",
        "#     sum_squared_error = np.sum(squared_error)\n",
        "#     mse_loss = sum_squared_error / true.size\n",
        "#     return mse_loss\n",
        "# def root_mean_squared_error(true, pred):\n",
        "#     squared_error = np.square(true - pred) \n",
        "#     sum_squared_error = np.sum(squared_error)\n",
        "#     rmse_loss = np.sqrt(sum_squared_error / true.size)\n",
        "#     return rmse_loss"
      ]
    }
  ],
  "metadata": {
    "accelerator": "GPU",
    "colab": {
      "provenance": []
    },
    "gpuClass": "standard",
    "kernelspec": {
      "display_name": "base",
      "language": "python",
      "name": "python3"
    },
    "language_info": {
      "codemirror_mode": {
        "name": "ipython",
        "version": 3
      },
      "file_extension": ".py",
      "mimetype": "text/x-python",
      "name": "python",
      "nbconvert_exporter": "python",
      "pygments_lexer": "ipython3",
      "version": "3.12.7"
    }
  },
  "nbformat": 4,
  "nbformat_minor": 0
}
